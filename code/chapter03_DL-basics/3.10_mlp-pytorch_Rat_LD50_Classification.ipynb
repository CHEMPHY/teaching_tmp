{
 "cells": [
  {
   "cell_type": "markdown",
   "metadata": {},
   "source": [
    "# 3.10 多层感知机的简洁实现"
   ]
  },
  {
   "cell_type": "code",
   "execution_count": 106,
   "metadata": {},
   "outputs": [
    {
     "name": "stdout",
     "output_type": "stream",
     "text": [
      "1.4.0\n"
     ]
    }
   ],
   "source": [
    "import torch\n",
    "from torch import nn\n",
    "from torch.nn import init\n",
    "import numpy as np\n",
    "import pandas as pd\n",
    "from rdkit import Chem\n",
    "from rdkit.Chem import rdFingerprintGenerator,AllChem\n",
    "import torch.utils.data as Data\n",
    "import sys\n",
    "sys.path.append(\"..\") \n",
    "import d2lzh_pytorch as d2l\n",
    "\n",
    "\n",
    "print(torch.__version__)"
   ]
  },
  {
   "cell_type": "markdown",
   "metadata": {},
   "source": [
    "## 3.10.1 定义模型"
   ]
  },
  {
   "cell_type": "code",
   "execution_count": 117,
   "metadata": {},
   "outputs": [],
   "source": [
    "num_inputs,  num_hidden_1, num_hidden_2 ,num_outputs= 2048, 128, 64, 4\n",
    "    \n",
    "net = nn.Sequential(\n",
    "        d2l.FlattenLayer(),\n",
    "        nn.Linear(num_inputs, num_hidden_1),\n",
    "        nn.ReLU(),\n",
    "        nn.Linear(num_hidden_1, num_hidden_2),\n",
    "        nn.ReLU(),\n",
    "        nn.Linear(num_hidden_2, num_outputs), \n",
    "        )    \n",
    "for params in net.parameters():\n",
    "    init.normal_(params, mean=0, std=0.01)"
   ]
  },
  {
   "cell_type": "code",
   "execution_count": 108,
   "metadata": {},
   "outputs": [],
   "source": [
    "def read_raw_data(fname):\n",
    "    raw_df = pd.read_csv(fname,sep='\\t')\n",
    "    ce = raw_df[['Canonical_QSARr','EPA_category']]\n",
    "    fps,ys= [],[]\n",
    "    for im in range(ce.shape[0]):\n",
    "        smi, y = ce.iloc[im,:]\n",
    "        try:\n",
    "            mol =Chem.MolFromSmiles(smi)\n",
    "            fp = AllChem.GetMorganFingerprintAsBitVect(mol,2,nBits=2048)\n",
    "            fp = list(fp.ToBitString())\n",
    "            fp = [float(ik) for ik in fp]\n",
    "            y = int(y)-1\n",
    "            fps.append(fp)\n",
    "            ys.append(y)\n",
    "        except:\n",
    "            pass\n",
    "    x = np.array(fps)\n",
    "    y = np.array(ys)\n",
    "    return x,y"
   ]
  },
  {
   "cell_type": "code",
   "execution_count": 113,
   "metadata": {},
   "outputs": [],
   "source": [
    "batch_size = 256"
   ]
  },
  {
   "cell_type": "code",
   "execution_count": 114,
   "metadata": {},
   "outputs": [],
   "source": [
    "fname = './trainingset_171130.txt'\n",
    "x,y = read_raw_data(fname)\n",
    "features = torch.tensor(x , dtype= torch.float)\n",
    "labels = torch.tensor(y, dtype= torch.long)\n",
    "dataset = Data.TensorDataset(features, labels)\n",
    "train_iter = Data.DataLoader(dataset,batch_size,shuffle = True)"
   ]
  },
  {
   "cell_type": "code",
   "execution_count": 112,
   "metadata": {},
   "outputs": [
    {
     "data": {
      "text/plain": [
       "(8890,)"
      ]
     },
     "execution_count": 112,
     "metadata": {},
     "output_type": "execute_result"
    }
   ],
   "source": [
    "y.shape"
   ]
  },
  {
   "cell_type": "code",
   "execution_count": 115,
   "metadata": {},
   "outputs": [],
   "source": [
    "fname = './validationset.txt'\n",
    "x,y = read_raw_data(fname)\n",
    "features = torch.tensor(x , dtype= torch.float)\n",
    "labels = torch.tensor(y, dtype= torch.long)\n",
    "dataset = Data.TensorDataset(features, labels)\n",
    "test_iter = Data.DataLoader(dataset,batch_size,shuffle = True)"
   ]
  },
  {
   "cell_type": "markdown",
   "metadata": {},
   "source": [
    "## 3.10.2 读取数据并训练模型"
   ]
  },
  {
   "cell_type": "code",
   "execution_count": 118,
   "metadata": {},
   "outputs": [
    {
     "name": "stdout",
     "output_type": "stream",
     "text": [
      "epoch 1, loss 0.0048, train acc 0.487, test acc 0.497\n",
      "epoch 2, loss 0.0048, train acc 0.499, test acc 0.497\n",
      "epoch 3, loss 0.0048, train acc 0.499, test acc 0.497\n",
      "epoch 4, loss 0.0048, train acc 0.499, test acc 0.497\n",
      "epoch 5, loss 0.0048, train acc 0.499, test acc 0.497\n",
      "epoch 6, loss 0.0047, train acc 0.499, test acc 0.497\n",
      "epoch 7, loss 0.0047, train acc 0.499, test acc 0.497\n",
      "epoch 8, loss 0.0047, train acc 0.499, test acc 0.497\n",
      "epoch 9, loss 0.0047, train acc 0.499, test acc 0.497\n",
      "epoch 10, loss 0.0045, train acc 0.500, test acc 0.513\n",
      "epoch 11, loss 0.0043, train acc 0.515, test acc 0.542\n",
      "epoch 12, loss 0.0041, train acc 0.546, test acc 0.538\n",
      "epoch 13, loss 0.0039, train acc 0.568, test acc 0.541\n",
      "epoch 14, loss 0.0038, train acc 0.580, test acc 0.583\n",
      "epoch 15, loss 0.0037, train acc 0.592, test acc 0.580\n",
      "epoch 16, loss 0.0035, train acc 0.606, test acc 0.566\n",
      "epoch 17, loss 0.0035, train acc 0.611, test acc 0.585\n",
      "epoch 18, loss 0.0033, train acc 0.636, test acc 0.584\n",
      "epoch 19, loss 0.0033, train acc 0.637, test acc 0.571\n",
      "epoch 20, loss 0.0032, train acc 0.653, test acc 0.600\n",
      "epoch 21, loss 0.0030, train acc 0.673, test acc 0.556\n",
      "epoch 22, loss 0.0031, train acc 0.669, test acc 0.569\n",
      "epoch 23, loss 0.0028, train acc 0.687, test acc 0.576\n",
      "epoch 24, loss 0.0028, train acc 0.697, test acc 0.590\n",
      "epoch 25, loss 0.0026, train acc 0.719, test acc 0.614\n",
      "epoch 26, loss 0.0026, train acc 0.719, test acc 0.578\n",
      "epoch 27, loss 0.0024, train acc 0.751, test acc 0.576\n",
      "epoch 28, loss 0.0023, train acc 0.755, test acc 0.617\n",
      "epoch 29, loss 0.0022, train acc 0.766, test acc 0.595\n",
      "epoch 30, loss 0.0022, train acc 0.778, test acc 0.580\n",
      "epoch 31, loss 0.0019, train acc 0.793, test acc 0.546\n",
      "epoch 32, loss 0.0018, train acc 0.815, test acc 0.535\n",
      "epoch 33, loss 0.0020, train acc 0.802, test acc 0.599\n",
      "epoch 34, loss 0.0015, train acc 0.845, test acc 0.603\n",
      "epoch 35, loss 0.0020, train acc 0.804, test acc 0.554\n",
      "epoch 36, loss 0.0016, train acc 0.851, test acc 0.620\n",
      "epoch 37, loss 0.0019, train acc 0.820, test acc 0.588\n",
      "epoch 38, loss 0.0014, train acc 0.873, test acc 0.608\n",
      "epoch 39, loss 0.0024, train acc 0.778, test acc 0.611\n",
      "epoch 40, loss 0.0013, train acc 0.873, test acc 0.595\n",
      "epoch 41, loss 0.0010, train acc 0.903, test acc 0.607\n",
      "epoch 42, loss 0.0012, train acc 0.893, test acc 0.621\n",
      "epoch 43, loss 0.0009, train acc 0.920, test acc 0.512\n",
      "epoch 44, loss 0.0035, train acc 0.704, test acc 0.572\n",
      "epoch 45, loss 0.0019, train acc 0.813, test acc 0.567\n",
      "epoch 46, loss 0.0016, train acc 0.842, test acc 0.524\n",
      "epoch 47, loss 0.0013, train acc 0.870, test acc 0.600\n",
      "epoch 48, loss 0.0014, train acc 0.872, test acc 0.617\n",
      "epoch 49, loss 0.0009, train acc 0.906, test acc 0.610\n",
      "epoch 50, loss 0.0006, train acc 0.951, test acc 0.615\n",
      "epoch 51, loss 0.0005, train acc 0.957, test acc 0.614\n",
      "epoch 52, loss 0.0017, train acc 0.859, test acc 0.591\n",
      "epoch 53, loss 0.0014, train acc 0.856, test acc 0.591\n",
      "epoch 54, loss 0.0007, train acc 0.932, test acc 0.591\n",
      "epoch 55, loss 0.0008, train acc 0.919, test acc 0.606\n",
      "epoch 56, loss 0.0005, train acc 0.957, test acc 0.614\n",
      "epoch 57, loss 0.0004, train acc 0.965, test acc 0.609\n",
      "epoch 58, loss 0.0004, train acc 0.966, test acc 0.590\n",
      "epoch 59, loss 0.0004, train acc 0.964, test acc 0.605\n",
      "epoch 60, loss 0.0004, train acc 0.967, test acc 0.616\n",
      "epoch 61, loss 0.0003, train acc 0.969, test acc 0.602\n",
      "epoch 62, loss 0.0003, train acc 0.971, test acc 0.606\n",
      "epoch 63, loss 0.0003, train acc 0.972, test acc 0.608\n",
      "epoch 64, loss 0.0003, train acc 0.971, test acc 0.609\n",
      "epoch 65, loss 0.0003, train acc 0.971, test acc 0.612\n",
      "epoch 66, loss 0.0003, train acc 0.972, test acc 0.609\n",
      "epoch 67, loss 0.0003, train acc 0.972, test acc 0.603\n",
      "epoch 68, loss 0.0003, train acc 0.972, test acc 0.602\n",
      "epoch 69, loss 0.0003, train acc 0.972, test acc 0.605\n",
      "epoch 70, loss 0.0003, train acc 0.972, test acc 0.606\n",
      "epoch 71, loss 0.0003, train acc 0.972, test acc 0.612\n",
      "epoch 72, loss 0.0003, train acc 0.972, test acc 0.611\n",
      "epoch 73, loss 0.0003, train acc 0.972, test acc 0.611\n",
      "epoch 74, loss 0.0003, train acc 0.973, test acc 0.605\n",
      "epoch 75, loss 0.0003, train acc 0.973, test acc 0.609\n",
      "epoch 76, loss 0.0003, train acc 0.973, test acc 0.614\n",
      "epoch 77, loss 0.0003, train acc 0.974, test acc 0.610\n",
      "epoch 78, loss 0.0003, train acc 0.972, test acc 0.611\n",
      "epoch 79, loss 0.0002, train acc 0.974, test acc 0.609\n",
      "epoch 80, loss 0.0002, train acc 0.972, test acc 0.615\n",
      "epoch 81, loss 0.0002, train acc 0.974, test acc 0.599\n",
      "epoch 82, loss 0.0002, train acc 0.973, test acc 0.606\n",
      "epoch 83, loss 0.0002, train acc 0.974, test acc 0.609\n",
      "epoch 84, loss 0.0002, train acc 0.974, test acc 0.613\n",
      "epoch 85, loss 0.0002, train acc 0.974, test acc 0.608\n",
      "epoch 86, loss 0.0002, train acc 0.973, test acc 0.612\n",
      "epoch 87, loss 0.0002, train acc 0.973, test acc 0.604\n",
      "epoch 88, loss 0.0002, train acc 0.974, test acc 0.609\n",
      "epoch 89, loss 0.0002, train acc 0.974, test acc 0.597\n",
      "epoch 90, loss 0.0002, train acc 0.975, test acc 0.598\n",
      "epoch 91, loss 0.0002, train acc 0.975, test acc 0.618\n",
      "epoch 92, loss 0.0002, train acc 0.974, test acc 0.606\n",
      "epoch 93, loss 0.0002, train acc 0.974, test acc 0.609\n",
      "epoch 94, loss 0.0002, train acc 0.975, test acc 0.613\n",
      "epoch 95, loss 0.0002, train acc 0.975, test acc 0.616\n",
      "epoch 96, loss 0.0002, train acc 0.974, test acc 0.614\n",
      "epoch 97, loss 0.0002, train acc 0.974, test acc 0.607\n",
      "epoch 98, loss 0.0002, train acc 0.975, test acc 0.614\n",
      "epoch 99, loss 0.0002, train acc 0.974, test acc 0.609\n",
      "epoch 100, loss 0.0002, train acc 0.974, test acc 0.597\n",
      "epoch 101, loss 0.0002, train acc 0.974, test acc 0.604\n",
      "epoch 102, loss 0.0002, train acc 0.976, test acc 0.611\n",
      "epoch 103, loss 0.0002, train acc 0.975, test acc 0.615\n",
      "epoch 104, loss 0.0002, train acc 0.975, test acc 0.601\n",
      "epoch 105, loss 0.0002, train acc 0.974, test acc 0.610\n",
      "epoch 106, loss 0.0002, train acc 0.975, test acc 0.616\n",
      "epoch 107, loss 0.0002, train acc 0.975, test acc 0.605\n",
      "epoch 108, loss 0.0002, train acc 0.975, test acc 0.610\n",
      "epoch 109, loss 0.0002, train acc 0.974, test acc 0.611\n",
      "epoch 110, loss 0.0002, train acc 0.975, test acc 0.613\n",
      "epoch 111, loss 0.0002, train acc 0.974, test acc 0.607\n",
      "epoch 112, loss 0.0002, train acc 0.975, test acc 0.608\n",
      "epoch 113, loss 0.0002, train acc 0.974, test acc 0.607\n",
      "epoch 114, loss 0.0002, train acc 0.975, test acc 0.609\n",
      "epoch 115, loss 0.0002, train acc 0.975, test acc 0.616\n",
      "epoch 116, loss 0.0002, train acc 0.974, test acc 0.610\n",
      "epoch 117, loss 0.0002, train acc 0.974, test acc 0.613\n",
      "epoch 118, loss 0.0002, train acc 0.975, test acc 0.609\n",
      "epoch 119, loss 0.0002, train acc 0.975, test acc 0.614\n",
      "epoch 120, loss 0.0002, train acc 0.975, test acc 0.612\n",
      "epoch 121, loss 0.0002, train acc 0.975, test acc 0.612\n",
      "epoch 122, loss 0.0002, train acc 0.976, test acc 0.618\n",
      "epoch 123, loss 0.0002, train acc 0.975, test acc 0.613\n",
      "epoch 124, loss 0.0002, train acc 0.974, test acc 0.613\n",
      "epoch 125, loss 0.0002, train acc 0.974, test acc 0.623\n",
      "epoch 126, loss 0.0002, train acc 0.974, test acc 0.611\n",
      "epoch 127, loss 0.0002, train acc 0.975, test acc 0.610\n",
      "epoch 128, loss 0.0002, train acc 0.974, test acc 0.612\n",
      "epoch 129, loss 0.0002, train acc 0.975, test acc 0.611\n",
      "epoch 130, loss 0.0002, train acc 0.975, test acc 0.617\n",
      "epoch 131, loss 0.0002, train acc 0.975, test acc 0.614\n",
      "epoch 132, loss 0.0002, train acc 0.974, test acc 0.613\n",
      "epoch 133, loss 0.0002, train acc 0.976, test acc 0.606\n",
      "epoch 134, loss 0.0002, train acc 0.974, test acc 0.608\n",
      "epoch 135, loss 0.0002, train acc 0.974, test acc 0.608\n",
      "epoch 136, loss 0.0002, train acc 0.976, test acc 0.610\n",
      "epoch 137, loss 0.0002, train acc 0.975, test acc 0.612\n",
      "epoch 138, loss 0.0002, train acc 0.975, test acc 0.610\n",
      "epoch 139, loss 0.0002, train acc 0.974, test acc 0.607\n",
      "epoch 140, loss 0.0002, train acc 0.976, test acc 0.611\n",
      "epoch 141, loss 0.0002, train acc 0.975, test acc 0.609\n",
      "epoch 142, loss 0.0002, train acc 0.975, test acc 0.613\n",
      "epoch 143, loss 0.0002, train acc 0.974, test acc 0.614\n",
      "epoch 144, loss 0.0002, train acc 0.977, test acc 0.614\n",
      "epoch 145, loss 0.0002, train acc 0.974, test acc 0.609\n",
      "epoch 146, loss 0.0002, train acc 0.975, test acc 0.617\n",
      "epoch 147, loss 0.0002, train acc 0.974, test acc 0.607\n",
      "epoch 148, loss 0.0002, train acc 0.975, test acc 0.609\n",
      "epoch 149, loss 0.0002, train acc 0.975, test acc 0.609\n"
     ]
    },
    {
     "name": "stdout",
     "output_type": "stream",
     "text": [
      "epoch 150, loss 0.0002, train acc 0.974, test acc 0.612\n"
     ]
    }
   ],
   "source": [
    "loss = torch.nn.CrossEntropyLoss()\n",
    "\n",
    "optimizer = torch.optim.SGD(net.parameters(), lr=0.5)\n",
    "num_epochs = 150\n",
    "d2l.train_ch3(net, train_iter, test_iter, \n",
    "              loss, num_epochs, batch_size,\n",
    "              None, None, optimizer)"
   ]
  },
  {
   "cell_type": "code",
   "execution_count": null,
   "metadata": {
    "collapsed": true
   },
   "outputs": [],
   "source": []
  }
 ],
 "metadata": {
  "kernelspec": {
   "display_name": "Python 3",
   "language": "python",
   "name": "python3"
  },
  "language_info": {
   "codemirror_mode": {
    "name": "ipython",
    "version": 3
   },
   "file_extension": ".py",
   "mimetype": "text/x-python",
   "name": "python",
   "nbconvert_exporter": "python",
   "pygments_lexer": "ipython3",
   "version": "3.6.10"
  }
 },
 "nbformat": 4,
 "nbformat_minor": 2
}
